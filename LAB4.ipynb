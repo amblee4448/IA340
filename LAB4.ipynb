{
 "cells": [
  {
   "cell_type": "markdown",
   "id": "a5cff967",
   "metadata": {},
   "source": [
    "# Lab 4"
   ]
  },
  {
   "cell_type": "markdown",
   "id": "e5f8cd66",
   "metadata": {},
   "source": [
    "## import lib and connect to database"
   ]
  },
  {
   "cell_type": "code",
   "execution_count": 1,
   "id": "2514dba9",
   "metadata": {},
   "outputs": [],
   "source": [
    "import pandas\n",
    "import configparser\n",
    "import psycopg2"
   ]
  },
  {
   "cell_type": "code",
   "execution_count": 2,
   "id": "4cde4e1e",
   "metadata": {},
   "outputs": [],
   "source": [
    "config = configparser.ConfigParser()\n",
    "config.read('config.ini')\n",
    "\n",
    "host = config['myaws']['host']\n",
    "db = config['myaws']['db']\n",
    "user = config['myaws']['user']\n",
    "pwd = config['myaws']['pwd']"
   ]
  },
  {
   "cell_type": "code",
   "execution_count": 3,
   "id": "1f732110",
   "metadata": {},
   "outputs": [],
   "source": [
    "conn = psycopg2.connect(host=host,\n",
    "                       user=user,\n",
    "                       password=pwd,\n",
    "                       dbname=db)"
   ]
  },
  {
   "cell_type": "code",
   "execution_count": 4,
   "id": "4275e6dc",
   "metadata": {},
   "outputs": [],
   "source": [
    "cur = conn.cursor()"
   ]
  },
  {
   "cell_type": "markdown",
   "id": "10d621f6",
   "metadata": {},
   "source": [
    "## Q3.1"
   ]
  },
  {
   "cell_type": "code",
   "execution_count": null,
   "id": "029a16ed",
   "metadata": {},
   "outputs": [],
   "source": [
    "sql=\"\"\"select * from student\"\"\""
   ]
  },
  {
   "cell_type": "code",
   "execution_count": null,
   "id": "47252b5f",
   "metadata": {},
   "outputs": [],
   "source": [
    "df = pandas.read_sql_query(sql,conn)\n",
    "df[:]"
   ]
  },
  {
   "cell_type": "markdown",
   "id": "dcfde737",
   "metadata": {},
   "source": [
    "## Q3.2"
   ]
  },
  {
   "cell_type": "code",
   "execution_count": null,
   "id": "818bda3d",
   "metadata": {},
   "outputs": [],
   "source": [
    "sql = \"\"\"select professor.p_name,\n",
    "                course.c_name\n",
    "                from professor\n",
    "                inner join course\n",
    "                on professor.p_email=course.p_email\"\"\""
   ]
  },
  {
   "cell_type": "code",
   "execution_count": null,
   "id": "5e220ac9",
   "metadata": {},
   "outputs": [],
   "source": [
    "df = pandas.read_sql_query(sql,conn)\n",
    "df[:]"
   ]
  },
  {
   "cell_type": "markdown",
   "id": "81004ce0",
   "metadata": {},
   "source": [
    "## Q3.3"
   ]
  },
  {
   "cell_type": "code",
   "execution_count": null,
   "id": "a826ead3",
   "metadata": {},
   "outputs": [],
   "source": [
    "sql = \"\"\"\n",
    "      select count(*) as c_count, c_number\n",
    "      from enroll\n",
    "      group by c_number\"\"\""
   ]
  },
  {
   "cell_type": "code",
   "execution_count": null,
   "id": "aa371ce1",
   "metadata": {},
   "outputs": [],
   "source": [
    "df = pandas.read_sql_query(sql,conn)\n",
    "df.plot.bar(x= 'c_number', y ='c_count')"
   ]
  },
  {
   "cell_type": "code",
   "execution_count": null,
   "id": "d90a75c3",
   "metadata": {},
   "outputs": [],
   "source": [
    "<AxesSubplot:xlabel='c_number'>"
   ]
  },
  {
   "cell_type": "markdown",
   "id": "f9d1d2e7",
   "metadata": {},
   "source": [
    "## Q3.4"
   ]
  },
  {
   "cell_type": "code",
   "execution_count": null,
   "id": "18c76e7d",
   "metadata": {},
   "outputs": [],
   "source": [
    "sql = sql = \"\"\"select professor.p_name,\n",
    "                count(*) as c_number\n",
    "                from professor\n",
    "                inner join course\n",
    "                on professor.p_email=course.p_email\n",
    "                group by professor.p_name\"\"\""
   ]
  },
  {
   "cell_type": "code",
   "execution_count": null,
   "id": "425cec7d",
   "metadata": {},
   "outputs": [],
   "source": [
    "df = pandas.read_sql_query(sql,conn)\n",
    "df.plot.bar(x='p_name',y='c_number')"
   ]
  },
  {
   "cell_type": "code",
   "execution_count": null,
   "id": "e5f3dd90",
   "metadata": {},
   "outputs": [],
   "source": [
    "sql = \"\"\"\n",
    "        insert into professor(p_email,p_name,office)\n",
    "        values('{}','{}','{}')\n",
    "        \"\"\".format('p4@jmu.edu','p4','o4')"
   ]
  },
  {
   "cell_type": "code",
   "execution_count": null,
   "id": "0c218a2d",
   "metadata": {},
   "outputs": [],
   "source": [
    "cur.execute(sql)"
   ]
  },
  {
   "cell_type": "code",
   "execution_count": null,
   "id": "5e698707",
   "metadata": {},
   "outputs": [],
   "source": [
    "conn.commit()"
   ]
  },
  {
   "cell_type": "code",
   "execution_count": null,
   "id": "283360d3",
   "metadata": {},
   "outputs": [],
   "source": [
    "sql = \"\"\"\n",
    "        insert into course(c_number,c_name,room,p_email)\n",
    "        values('{}','{}','{}','{}')\n",
    "        \"\"\".format('c5','linkedin','r2','p4@jmu.edu')"
   ]
  },
  {
   "cell_type": "code",
   "execution_count": null,
   "id": "55a6afad",
   "metadata": {},
   "outputs": [],
   "source": [
    "cur.execute(sql)"
   ]
  },
  {
   "cell_type": "code",
   "execution_count": null,
   "id": "048ed175",
   "metadata": {},
   "outputs": [],
   "source": [
    "df =pandas.read_sql_query('select * from professor',conn)\n",
    "df[:]"
   ]
  },
  {
   "cell_type": "code",
   "execution_count": null,
   "id": "eaf37f0b",
   "metadata": {},
   "outputs": [],
   "source": [
    "df =pandas.read_sql_query('select * from professor',conn)\n",
    "df[:]"
   ]
  },
  {
   "cell_type": "code",
   "execution_count": null,
   "id": "57e58f81",
   "metadata": {},
   "outputs": [],
   "source": [
    "conn.commit()"
   ]
  },
  {
   "cell_type": "code",
   "execution_count": null,
   "id": "238592db",
   "metadata": {},
   "outputs": [],
   "source": [
    "sql =\"\"\"\n",
    "   update course\n",
    "   set p_email ='{}'\n",
    "   where p_email ='{}' \"\"\".format('p4@jmu.edu','p2@jmu.edu')"
   ]
  },
  {
   "cell_type": "code",
   "execution_count": null,
   "id": "84dcc6c5",
   "metadata": {},
   "outputs": [],
   "source": [
    "cur.execute(sql)"
   ]
  },
  {
   "cell_type": "code",
   "execution_count": null,
   "id": "9b56436c",
   "metadata": {},
   "outputs": [],
   "source": [
    "conn.commit()"
   ]
  },
  {
   "cell_type": "code",
   "execution_count": null,
   "id": "0be58a78",
   "metadata": {},
   "outputs": [],
   "source": [
    "df =pandas.read_sql_query('select * from course',conn)\n",
    "df[:]"
   ]
  },
  {
   "cell_type": "code",
   "execution_count": null,
   "id": "bfcb09db",
   "metadata": {},
   "outputs": [],
   "source": [
    "sql =\"\"\"\n",
    "    delete from professor where p_email='{}'\n",
    "\"\"\".format('p2@jmu.edu')"
   ]
  },
  {
   "cell_type": "code",
   "execution_count": null,
   "id": "92da5d82",
   "metadata": {},
   "outputs": [],
   "source": [
    "cur.execute(sql)"
   ]
  },
  {
   "cell_type": "code",
   "execution_count": null,
   "id": "636b1fb1",
   "metadata": {},
   "outputs": [],
   "source": [
    "conn.commit()"
   ]
  },
  {
   "cell_type": "code",
   "execution_count": null,
   "id": "a1dc04fe",
   "metadata": {},
   "outputs": [],
   "source": [
    "df =pandas.read_sql_query('select * from professor',conn)\n",
    "df[:]"
   ]
  },
  {
   "cell_type": "code",
   "execution_count": null,
   "id": "2d2fee26",
   "metadata": {},
   "outputs": [],
   "source": []
  },
  {
   "cell_type": "code",
   "execution_count": null,
   "id": "dfaac6a2",
   "metadata": {},
   "outputs": [],
   "source": []
  }
 ],
 "metadata": {
  "kernelspec": {
   "display_name": "conda_python3",
   "language": "python",
   "name": "conda_python3"
  },
  "language_info": {
   "codemirror_mode": {
    "name": "ipython",
    "version": 3
   },
   "file_extension": ".py",
   "mimetype": "text/x-python",
   "name": "python",
   "nbconvert_exporter": "python",
   "pygments_lexer": "ipython3",
   "version": "3.8.12"
  }
 },
 "nbformat": 4,
 "nbformat_minor": 5
}
